{
 "cells": [
  {
   "cell_type": "code",
   "execution_count": 5,
   "id": "c4d08a81",
   "metadata": {},
   "outputs": [],
   "source": [
    "import chromadb"
   ]
  },
  {
   "cell_type": "code",
   "execution_count": 29,
   "id": "c01452b4",
   "metadata": {},
   "outputs": [
    {
     "name": "stdout",
     "output_type": "stream",
     "text": [
      "Collection 'testset_MiniLM-L6-V2' deleted successfully.\n"
     ]
    }
   ],
   "source": [
    "# Create a ChromaDB client\n",
    "# client = chromadb.PersistentClient(path=\"/Users/yourusername/Documents/my_chroma_data\")\n",
    "client = chromadb.PersistentClient(path=\"/Users/ashok/workspace/GenAI/Learning/chromadb-data\")  # Use a relative path for portability\n",
    "\n",
    "collection_name = \"testset_MiniLM-L6-V2\"\n",
    "\n",
    "metsadata = {\"hnsw:space\": \"cosine\"}\n",
    "\n",
    "try:\n",
    "    client.delete_collection(name=collection_name)\n",
    "    print(f\"Collection '{collection_name}' deleted successfully.\")\n",
    "except:\n",
    "    \n",
    "    print(f\"Collection not there ignored\")\n",
    "    \n",
    "\n",
    "\n",
    "# Setting up a collection named \"test_collection\"\n",
    "collection = client.get_or_create_collection(name=collection_name,metadata=metsadata)\n",
    "\n",
    "\n",
    "\n"
   ]
  },
  {
   "cell_type": "code",
   "execution_count": 30,
   "id": "63bab177",
   "metadata": {},
   "outputs": [],
   "source": [
    "# Create Test Corpus\n",
    "corpus = [\n",
    "    \"deterministic replicated state machine (RSM) still works with optional, \",\n",
    "    \"branches like cancel/correct and offset generation, and with sequencing \"\n",
    "    \"constraints for commission. The trick is to model branching as explicit, \",\n",
    "    \"deterministic transitions and to isolate any non-deterministic side effects \"\n",
    "    \"(external API calls) behind log-committed events. For commission sequencing, \"\n",
    "    \"you enforce a per-key (accountId + orderId) serial queue inside the RSM so \"\n",
    "    \"commands for the same key are processed strictly one-by-one. \",\n",
    "    \" The same starting record (every ones account balances)\"\n",
    "\t\"  The same rules for processing transactions (deposit, withdraw, and transfer)\"\n",
    "    \"\t1) Customer sends a transaction - > Deposit 500$ in to account #123\",\n",
    "\t\" 2) All branches receive this transaction in the same order (Thanks to a consensus system)\"\n",
    "\t\" 3) Each branch updates its records in exactly the same way (deterministic rules)\",\n",
    "    \"Result All branches have identical account balances at all time\"\n",
    "    \"you enforce a per-key (accountId + orderId) serial queue inside the RSM so \"\n",
    "    \"commands for the same key are processed strictly one-by-one. \",\n",
    "    \" The same starting record (every ones account balances)\"\n",
    "\t\"  The same rules for processing transactions (deposit, withdraw, and transfer)\"\n",
    "    \"\t1) Customer sends a transaction - > Deposit 500$ in to account #123\"\n",
    "\t\" 2) All branches receive this transaction in the same order (Thanks to a consensus system)\",\n",
    "\t\" 3) Each branch updates its records in exactly the same way (deterministic rules)\",\n",
    "    \"Result All branches have identical account balances at all time\"\n",
    "\n",
    "]\n",
    "\n",
    "# # Fileds stored alongside embeddings\n",
    "ids = []\n",
    "metadatas = []\n",
    "\n",
    "# Loop through corpus to generate the ids and metdata = {wordcount, uri}\n",
    "for i in range(len(corpus)):\n",
    "    # print(corpus[i])\n",
    "    ids.append(\"id-\"+str(i))\n",
    "    uri = \"https://link-\"+str(i)\n",
    "    metadatas.append({\"words_count\": len(corpus[i]), \"uri\": uri})\n",
    "\n",
    "collection.add(documents = corpus, metadatas=metadatas, ids=ids)\n",
    "\n",
    "\n"
   ]
  },
  {
   "cell_type": "code",
   "execution_count": 31,
   "id": "52e04d08",
   "metadata": {},
   "outputs": [
    {
     "name": "stdout",
     "output_type": "stream",
     "text": [
      "Index count :  9\n",
      "['id-0', 'id-1', 'id-2', 'id-3', 'id-4', 'id-5', 'id-6', 'id-7', 'id-8']\n",
      "[{'uri': 'https://link-0', 'words_count': 72}, {'words_count': 145, 'uri': 'https://link-1'}, {'uri': 'https://link-2', 'words_count': 289}, {'words_count': 201, 'uri': 'https://link-3'}, {'uri': 'https://link-4', 'words_count': 171}, {'words_count': 199, 'uri': 'https://link-5'}, {'words_count': 291, 'uri': 'https://link-6'}, {'uri': 'https://link-7', 'words_count': 81}, {'uri': 'https://link-8', 'words_count': 63}]\n",
      "['deterministic replicated state machine (RSM) still works with optional, ', 'branches like cancel/correct and offset generation, and with sequencing constraints for commission. The trick is to model branching as explicit, ', 'deterministic transitions and to isolate any non-deterministic side effects (external API calls) behind log-committed events. For commission sequencing, you enforce a per-key (accountId + orderId) serial queue inside the RSM so commands for the same key are processed strictly one-by-one. ', ' The same starting record (every ones account balances)  The same rules for processing transactions (deposit, withdraw, and transfer)\\t1) Customer sends a transaction - > Deposit 500$ in to account #123', ' 2) All branches receive this transaction in the same order (Thanks to a consensus system) 3) Each branch updates its records in exactly the same way (deterministic rules)', 'Result All branches have identical account balances at all timeyou enforce a per-key (accountId + orderId) serial queue inside the RSM so commands for the same key are processed strictly one-by-one. ', ' The same starting record (every ones account balances)  The same rules for processing transactions (deposit, withdraw, and transfer)\\t1) Customer sends a transaction - > Deposit 500$ in to account #123 2) All branches receive this transaction in the same order (Thanks to a consensus system)', ' 3) Each branch updates its records in exactly the same way (deterministic rules)', 'Result All branches have identical account balances at all time']\n"
     ]
    }
   ],
   "source": [
    "count = collection.count()\n",
    "result = collection.peek()\n",
    "\n",
    "# Print information on the collection\n",
    "print(\"Index count : \", count)\n",
    "print(result['ids'])\n",
    "print(result['metadatas'])\n",
    "print(result['documents'])"
   ]
  },
  {
   "cell_type": "code",
   "execution_count": 32,
   "id": "45c6fa25",
   "metadata": {},
   "outputs": [
    {
     "name": "stdout",
     "output_type": "stream",
     "text": [
      "[['deterministic replicated state machine (RSM) still works with optional, ', 'deterministic transitions and to isolate any non-deterministic side effects (external API calls) behind log-committed events. For commission sequencing, you enforce a per-key (accountId + orderId) serial queue inside the RSM so commands for the same key are processed strictly one-by-one. ', ' 3) Each branch updates its records in exactly the same way (deterministic rules)']]\n",
      "[['id-0', 'id-2', 'id-7']]\n",
      "[[{'uri': 'https://link-0', 'words_count': 72}, {'words_count': 289, 'uri': 'https://link-2'}, {'uri': 'https://link-7', 'words_count': 81}]]\n"
     ]
    }
   ],
   "source": [
    "result = collection.query(\n",
    "    query_texts = [\"I like deterministic stste machine\"], # \"small child is having fun\"],\n",
    "    n_results = 3,\n",
    "    # include=[\"documents\"],             # projections\n",
    "    # where={\"words_count\": {\"$lt\": 50}},\n",
    "    # where_document={\"$contains\":\"chef\"},\n",
    "    \n",
    ")\n",
    "\n",
    "print(result['documents'])\n",
    "print(result['ids'])\n",
    "print(result['metadatas'])"
   ]
  },
  {
   "cell_type": "code",
   "execution_count": 33,
   "id": "be2a28d7",
   "metadata": {},
   "outputs": [
    {
     "name": "stdout",
     "output_type": "stream",
     "text": [
      "{'ids': ['id-7'], 'embeddings': None, 'documents': [' 3) Each branch updates its records in exactly the same way (deterministic rules)'], 'uris': None, 'included': ['documents', 'metadatas'], 'data': None, 'metadatas': [{'words_count': 81, 'uri': 'https://link-7'}]}\n"
     ]
    }
   ],
   "source": [
    "# get documents collection\n",
    "result = collection.get(\n",
    "    ids = [\"id-7\"],\n",
    "    where = {\"words_count\": {\"$gt\": 0}},\n",
    "    # where_document={\"$contains\":\"chef\"},\n",
    "    include = [\"documents\", \"metadatas\"]    # projections\n",
    ")\n",
    "print(result)"
   ]
  }
 ],
 "metadata": {
  "kernelspec": {
   "display_name": "vectordb",
   "language": "python",
   "name": "python3"
  },
  "language_info": {
   "codemirror_mode": {
    "name": "ipython",
    "version": 3
   },
   "file_extension": ".py",
   "mimetype": "text/x-python",
   "name": "python",
   "nbconvert_exporter": "python",
   "pygments_lexer": "ipython3",
   "version": "3.13.3"
  }
 },
 "nbformat": 4,
 "nbformat_minor": 5
}
